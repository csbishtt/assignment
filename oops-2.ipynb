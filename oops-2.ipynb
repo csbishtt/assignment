{
 "cells": [
  {
   "cell_type": "code",
   "execution_count": 1,
   "id": "5a0e58df",
   "metadata": {},
   "outputs": [
    {
     "name": "stdout",
     "output_type": "stream",
     "text": [
      "Sedan started.\n",
      "Sedan accelerated.\n",
      "Sedan braked.\n"
     ]
    }
   ],
   "source": [
    "#Q1. What is Abstraction in OOps? Explain with an example.\n",
    "\n",
    "#Abstraction in Object-Oriented Programming (OOP) is one of the four fundamental principles, along with Encapsulation, Inheritance, and Polymorphism. Abstraction allows us to hide the implementation details of an object while exposing only the relevant characteristics or behaviors to the outside world. It focuses on what an object does rather than how it does it.\n",
    "\n",
    "class Car:\n",
    "    def __init__(self, make, model):\n",
    "        self.make = make\n",
    "        self.model = model\n",
    "\n",
    "    def start(self):\n",
    "        pass\n",
    "\n",
    "    def accelerate(self):\n",
    "        pass\n",
    "\n",
    "    def brake(self):\n",
    "        pass\n",
    "\n",
    "\n",
    "class Sedan(Car):\n",
    "    def start(self):\n",
    "        print(\"Sedan started.\")\n",
    "\n",
    "    def accelerate(self):\n",
    "        print(\"Sedan accelerated.\")\n",
    "\n",
    "    def brake(self):\n",
    "        print(\"Sedan braked.\")\n",
    "\n",
    "    \n",
    "my_sedan = Sedan(\"Honda\", \"Civic\")\n",
    "my_sedan.start()\n",
    "my_sedan.accelerate()\n",
    "my_sedan.brake()"
   ]
  },
  {
   "cell_type": "code",
   "execution_count": 2,
   "id": "45292140",
   "metadata": {},
   "outputs": [
    {
     "name": "stdout",
     "output_type": "stream",
     "text": [
      "Dog says: Woof!\n",
      "Dog's name: Buddy\n"
     ]
    }
   ],
   "source": [
    "#Q2. Differentiate between Abstraction and Encapsulation. Explain with an example.\n",
    "\n",
    "#Abstraction:\n",
    "#Abstraction is the process of simplifying complex systems by breaking them down into smaller, more manageable units and exposing only the relevant characteristics or behaviors to the outside world. It focuses on what an object does rather than how it does it. Abstraction allows you to define the essential features of an object while hiding the unnecessary implementation details.\n",
    "\n",
    "#Encapsulation:\n",
    "#Encapsulation is the process of bundling the data (attributes) and the methods (functions) that operate on that data within a single unit called a \"class.\" It allows the class to control the access to its data, ensuring that the internal state of the object is not directly accessible from outside. Encapsulation helps in hiding the implementation details and providing a well-defined interface to interact with the object.\n",
    "\n",
    "from abc import ABC, abstractmethod\n",
    "\n",
    "class Animal(ABC):\n",
    "    @abstractmethod\n",
    "    def make_sound(self):\n",
    "        pass\n",
    "\n",
    "class Dog(Animal):\n",
    "    def __init__(self, name):\n",
    "        self.__name = name \n",
    "\n",
    "    def make_sound(self):\n",
    "        return \"Woof!\"\n",
    "\n",
    "    def get_name(self):  \n",
    "        return self.__name\n",
    "\n",
    "dog = Dog(\"Buddy\")\n",
    "\n",
    "print(\"Dog says:\", dog.make_sound())\n",
    "print(\"Dog's name:\", dog.get_name())\n"
   ]
  },
  {
   "cell_type": "code",
   "execution_count": null,
   "id": "2d50a364",
   "metadata": {},
   "outputs": [],
   "source": [
    "#Q3. What is abc module in python? Why is it used?\n",
    "\n",
    "#The abc module in Python stands for \"Abstract Base Classes.\" It provides a way to work with abstract classes, which are classes\n",
    "#that cannot be instantiated directly and are meant to be used as base classes for other classes. Abstract base classes define a \n",
    "#common interface and structure that derived classes must adhere to by implementing specific methods.\n",
    "\n",
    "#The abc module is used to define abstract base classes and abstract methods, and it enforces the implementation of these methods\n",
    "#in the derived classes. It helps to achieve abstraction, polymorphism, and a clear hierarchy in object-oriented programming.\n"
   ]
  },
  {
   "cell_type": "code",
   "execution_count": null,
   "id": "3652a0f5",
   "metadata": {},
   "outputs": [],
   "source": [
    "#Q4. How can we achieve data abstraction?\n",
    "\n",
    "#Data abstraction in Python can be achieved using abstract classes and abstract methods from the abc module. Abstraction allows \n",
    "#you to define the essential attributes and methods of a class without providing the implementation details."
   ]
  },
  {
   "cell_type": "code",
   "execution_count": 3,
   "id": "c55fbfa7",
   "metadata": {},
   "outputs": [],
   "source": [
    "#Q5. Can we create an instance of an abstract class? Explain your answer.\n",
    "\n",
    "#No, you cannot create an instance of an abstract class directly in Python. Abstract classes are meant to serve as blueprints for other classes and cannot be instantiated on their own. The primary purpose of abstract classes is to define a common interface and structure for their derived classes.\n",
    "\n",
    "#An abstract class is a class that contains one or more abstract methods. Abstract methods are methods without any implementation, and they are marked with the abstractmethod decorator. These methods must be overridden and implemented in the derived classes.\n",
    "\n",
    "from abc import ABC, abstractmethod\n",
    "\n",
    "class Shape(ABC):\n",
    "    @abstractmethod\n",
    "    def area(self):\n",
    "        pass\n",
    "\n",
    "# (Will raise an error)\n",
    "# shape = Shape()\n"
   ]
  }
 ],
 "metadata": {
  "kernelspec": {
   "display_name": "Python 3 (ipykernel)",
   "language": "python",
   "name": "python3"
  },
  "language_info": {
   "codemirror_mode": {
    "name": "ipython",
    "version": 3
   },
   "file_extension": ".py",
   "mimetype": "text/x-python",
   "name": "python",
   "nbconvert_exporter": "python",
   "pygments_lexer": "ipython3",
   "version": "3.9.12"
  }
 },
 "nbformat": 4,
 "nbformat_minor": 5
}
