{
 "cells": [
  {
   "cell_type": "code",
   "execution_count": null,
   "id": "604f6f15",
   "metadata": {},
   "outputs": [],
   "source": [
    "#Q1. What is multiprocessing in python? Why is it useful?\n",
    "'''\n",
    "Multiprocessing in Python refers to the ability of the Python programming language to create and manage multiple processes \n",
    "simultaneously. A process is an independent unit of execution that has its own memory space, code, and system resources, such \n",
    "as CPU and I/O. Multiprocessing allows Python programs to execute tasks in parallel by dividing them into multiple processes, \n",
    "taking advantage of multi-core processors and speeding up the overall performance of the application.\n",
    "\n",
    "The primary module used for multiprocessing in Python is the multiprocessing module, which provides a high-level interface to \n",
    "create, start, and manage processes. It is part of the Python standard library and offers various features for inter-process\n",
    "communication and synchronization.\n",
    "'''"
   ]
  },
  {
   "cell_type": "code",
   "execution_count": null,
   "id": "4f1da10d",
   "metadata": {},
   "outputs": [],
   "source": [
    "#Q2. What are the differences between multiprocessing and multithreading?\n",
    "'''\n",
    "Multiprocessing and multithreading are both techniques used to achieve concurrency in computer programs, but they differ in how they create and manage concurrent units of execution. Here are the main differences between multiprocessing and multithreading:\n",
    "\n",
    "Basic Unit of Execution:\n",
    "\n",
    "Multiprocessing: In multiprocessing, the basic unit of execution is a separate process. Each process has its own memory space, resources, and Python interpreter instance. Processes do not share memory by default, which helps in avoiding some of the common pitfalls of concurrent programming, such as race conditions and deadlocks.\n",
    "Multithreading: In multithreading, the basic unit of execution is a thread. Threads belong to the same process and share the same memory space, which means they can directly access and modify the same data structures. However, this shared memory space requires careful synchronization to prevent data corruption and other thread-related issues.\n",
    "Communication and Data Sharing:\n",
    "\n",
    "Multiprocessing: Processes in multiprocessing communicate via inter-process communication (IPC) mechanisms, like pipes, queues, and shared memory. These mechanisms allow data to be exchanged between processes while maintaining data isolation.\n",
    "Multithreading: Threads within the same process can directly access shared data, which simplifies communication but also increases the risk of data inconsistencies and conflicts. Proper synchronization techniques, such as locks and semaphores, are essential to manage data access and ensure thread safety.\n",
    "Isolation and Fault Tolerance:\n",
    "\n",
    "Multiprocessing: Since each process has its own memory space, a bug or exception in one process is unlikely to affect others. This provides better isolation and fault tolerance compared to multithreading, as one misbehaving process won't bring down the entire application.\n",
    "Multithreading: Threads running within the same process share the same memory space. If one thread crashes due to an unhandled exception or memory corruption, it can potentially crash the entire process, affecting all threads within it.\n",
    "Granularity and Overhead:\n",
    "\n",
    "Multiprocessing: Creating and managing separate processes incurs more overhead than threads due to the need to set up separate memory spaces and Python interpreter instances. However, this overhead can be justified when dealing with CPU-bound tasks, as multiprocessing can fully utilize multi-core processors.\n",
    "Multithreading: Threads have lower creation and management overhead since they belong to the same process and share resources. However, their performance may be limited by the Global Interpreter Lock (GIL) in CPython, which allows only one thread to execute Python bytecode at a time. This makes multithreading less effective for CPU-bound tasks in CPython.\n",
    "Scalability:\n",
    "\n",
    "Multiprocessing: Multiprocessing can scale well with the number of available CPU cores since each process can run on a separate core, making it suitable for CPU-bound tasks.\n",
    "Multithreading: Due to the GIL limitations in CPython, multithreading might not scale effectively with the number of CPU cores for CPU-bound tasks. However, it can still be beneficial for I/O-bound tasks, where threads can perform non-blocking I/O operations while waiting for other threads.\n",
    "'''"
   ]
  },
  {
   "cell_type": "code",
   "execution_count": null,
   "id": "ff29a1e5",
   "metadata": {},
   "outputs": [],
   "source": [
    "#Q3. Write a python code to create a process using the multiprocessing module.\n",
    "import multiprocessing\n",
    "\n",
    "def my_function(name):\n",
    "    \"\"\"A simple function that prints a message with the provided name.\"\"\"\n",
    "    print(f\"Hello, {name}!\")\n",
    "\n",
    "if __name__ == \"__main__\":\n",
    "\n",
    "    process = multiprocessing.Process(target=my_function, args=(\"Alice\",))\n",
    "\n",
    "    process.start()\n",
    "\n",
    "    process.join()\n",
    "\n",
    "    print(\"Main process finished.\")"
   ]
  },
  {
   "cell_type": "code",
   "execution_count": null,
   "id": "c1875dc4",
   "metadata": {},
   "outputs": [],
   "source": [
    "#Q4. What is a multiprocessing pool in python? Why is it used?\n",
    "'''\n",
    "In Python, a multiprocessing pool refers to a pool of worker processes that are used to distribute and execute task concurrently\n",
    ". The multiprocessing pool is provided by the multiprocessing.Pool class from the multiprocessing module. It allows you to \n",
    "parallelize the execution of a function across multiple input values, making it easier to perform tasks concurrently and take \n",
    "advantage of multi-core processors.\n",
    "\n",
    "The main features and usage of the multiprocessing pool are as follows:\n",
    "\n",
    "Parallel Processing: The pool creates a group of worker processes, and each process can execute a copy of the target function\n",
    "independently with different input values. This allows multiple tasks to be processed in parallel, potentially speeding up the \n",
    "overall execution time.\n",
    "\n",
    "Task Distribution: When you create a pool, you specify the number of worker processes to be created. These processes form a \n",
    "pool, and the tasks are distributed among them. Each worker process picks up one task at a time, executes the function with the\n",
    "given input, and returns the results to the main process.\n",
    "\n",
    "Data Chunking: If you have a large dataset or a list of input values, the pool automatically divides the data into smaller \n",
    "chunks and distributes them among the worker processes. This helps in balancing the workload and optimizing the usage of\n",
    "available CPU cores.\n",
    "\n",
    "Simple Interface: The multiprocessing.Pool class provides a straightforward interface to parallelize tasks. You don't need to\n",
    "manually create and manage individual processes; the pool takes care of that for you.\n",
    "'''"
   ]
  },
  {
   "cell_type": "code",
   "execution_count": null,
   "id": "b5a79054",
   "metadata": {},
   "outputs": [],
   "source": [
    "#Q5. How can we create a pool of worker processes in python using the multiprocessing module?\n",
    "'''\n",
    "To create a pool of worker processes in Python using the multiprocessing module, you can use the multiprocessing.Pool class. \n",
    "The Pool class provides a simple interface to create a pool of worker processes that can execute tasks concurrently. Here's how \n",
    "you can create a pool of worker processes:\n",
    "\n",
    "Import the multiprocessing module.\n",
    "Define the function that you want to execute in parallel using the worker processes.\n",
    "Create an instance of multiprocessing.Pool with the desired number of worker processes.\n",
    "Use the map() or apply() method of the pool to distribute tasks among the worker processes and execute them concurrently.\n",
    "'''"
   ]
  },
  {
   "cell_type": "code",
   "execution_count": null,
   "id": "81ce5cd5",
   "metadata": {},
   "outputs": [],
   "source": [
    "# Q6. Write a python program to create 4 processes, each process should print a different number using themultiprocessing \n",
    "#module in python.\n",
    "\n"
   ]
  }
 ],
 "metadata": {
  "kernelspec": {
   "display_name": "Python 3 (ipykernel)",
   "language": "python",
   "name": "python3"
  },
  "language_info": {
   "codemirror_mode": {
    "name": "ipython",
    "version": 3
   },
   "file_extension": ".py",
   "mimetype": "text/x-python",
   "name": "python",
   "nbconvert_exporter": "python",
   "pygments_lexer": "ipython3",
   "version": "3.9.12"
  }
 },
 "nbformat": 4,
 "nbformat_minor": 5
}
