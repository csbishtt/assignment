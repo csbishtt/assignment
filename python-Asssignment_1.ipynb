{
 "cells": [
  {
   "cell_type": "code",
   "execution_count": 1,
   "id": "c8231503",
   "metadata": {},
   "outputs": [
    {
     "name": "stdout",
     "output_type": "stream",
     "text": [
      "[1, 3, 5, 7, 9, 11, 13, 15, 17, 19, 21, 23, 25]\n"
     ]
    }
   ],
   "source": [
    "#Q1. Which keyword is used to create a function? Create a function to return a list of odd numbers in the  range of 1 to 25.\n",
    "#def -- define keyword is used to create a function in python\n",
    "\n",
    "def get_odd_numbers():\n",
    "    odd_numbers = []\n",
    "    for number in range(1, 26):\n",
    "        if number % 2 != 0:\n",
    "            odd_numbers.append(number)\n",
    "    return odd_numbers\n",
    "\n",
    "# Call the function and print the result\n",
    "result = get_odd_numbers()\n",
    "print(result)\n"
   ]
  },
  {
   "cell_type": "code",
   "execution_count": 4,
   "id": "f2b6bc6a",
   "metadata": {},
   "outputs": [
    {
     "name": "stdout",
     "output_type": "stream",
     "text": [
      "1\n",
      "hello\n",
      "world\n",
      "2\n",
      "name: John\n",
      "age: 25\n",
      "city: New York\n"
     ]
    }
   ],
   "source": [
    "#Q2. Why \"args and **kwargs is used in some functions? Create a function each for *args and **kwargs to demonstrate their use.\n",
    "\n",
    "\n",
    "#In Python, *args and **kwargs are used to pass a variable number of arguments to a function.\n",
    "\n",
    "#The *args parameter allows a function to accept any number of positional arguments. It collects the additional arguments as a \n",
    "#tuple and can be accessed within the function using the args variable name.\n",
    "\n",
    "#The **kwargs parameter allows a function to accept any number of keyword arguments. It collects the additional arguments as a \n",
    "#dictionary, where the keys are the argument names and the values are the corresponding values passed to the function. \n",
    "\n",
    "#Here's an example demonstrating the use of *args:\n",
    "def func1(*args):\n",
    "    for i in args:\n",
    "        print(i)\n",
    "        \n",
    "func1(1,\"hello\",\"world\",2)\n",
    "\n",
    "#Now, let's take a look at an example demonstrating the use of **kwargs:\n",
    "def print_info(**kwargs):\n",
    "    for key, value in kwargs.items():\n",
    "        print(f\"{key}: {value}\")\n",
    "\n",
    "print_info(name=\"John\", age=25, city=\"New York\")\n"
   ]
  },
  {
   "cell_type": "code",
   "execution_count": 5,
   "id": "a6c48db6",
   "metadata": {},
   "outputs": [
    {
     "name": "stdout",
     "output_type": "stream",
     "text": [
      "2\n",
      "4\n",
      "6\n",
      "8\n",
      "10\n"
     ]
    }
   ],
   "source": [
    "#Q3. What is an iterator in python? Name the method used to initialise the iterator object and the method used for iteration. Use\n",
    "#these methods to print the first five elements of the given list [2, 4, 6, 8, 10, 12, 14,16, 18, 20].\n",
    "\n",
    "#In Python, an iterator is an object that allows you to traverse through elements in a collection or sequence. It provides a way\n",
    "#to access the elements of a container one at a time, without the need to know the internal structure of the container.\n",
    "\n",
    "#To create an iterator object, you can use the iter() function in Python. The iter() function takes an iterable object as an \n",
    "#argument and returns an iterator object. The iterator object can then be used to iterate over the elements of the iterable.\n",
    "#The method used for iteration is next(). It is used to retrieve the next element from the iterator. \n",
    "\n",
    "#To print the first five elements of the given list [2, 4, 6, 8, 10, 12, 14, 16, 18, 20]:\n",
    "my_list = [2, 4, 6, 8, 10, 12, 14, 16, 18, 20]\n",
    "my_iterator = iter(my_list)\n",
    "\n",
    "for _ in range(5):\n",
    "    element = next(my_iterator)\n",
    "    print(element)\n",
    "\n"
   ]
  },
  {
   "cell_type": "code",
   "execution_count": 6,
   "id": "95f10230",
   "metadata": {},
   "outputs": [
    {
     "name": "stdout",
     "output_type": "stream",
     "text": [
      "0\n",
      "2\n",
      "4\n",
      "6\n",
      "8\n"
     ]
    }
   ],
   "source": [
    "#Q4. What is a generator function in python? Why yield keyword is used? Give an example of a generator function.\n",
    "\n",
    "#In Python, a generator function is a special type of function that generates a sequence of values using the yield keyword. It \n",
    "#allows you to define a function that behaves like an iterator and generates values on-the-fly, without storing them all in \n",
    "#memory at once. Generator functions are defined using the def keyword, just like regular functions, but they use the yield \n",
    "#statement instead of return to produce a series of values.\n",
    "\n",
    "def even_no(n):\n",
    "    for i in range(n):\n",
    "        if i % 2 == 0:\n",
    "            yield i\n",
    "\n",
    "generator = even_no(10)\n",
    "for num in generator:\n",
    "    print(num)"
   ]
  },
  {
   "cell_type": "code",
   "execution_count": 7,
   "id": "3f12bf69",
   "metadata": {},
   "outputs": [
    {
     "name": "stdout",
     "output_type": "stream",
     "text": [
      "2\n",
      "3\n",
      "5\n",
      "7\n",
      "11\n",
      "13\n",
      "17\n",
      "19\n",
      "23\n",
      "29\n",
      "31\n",
      "37\n",
      "41\n",
      "43\n",
      "47\n",
      "53\n",
      "59\n",
      "61\n",
      "67\n",
      "71\n"
     ]
    }
   ],
   "source": [
    "#Q5. Create a generator function for prime numbers less than 1000. Use the next() method to print the first 20 prime numbers.\n",
    "def prime_generator():\n",
    "    primes = []\n",
    "    num = 2\n",
    "    while True:\n",
    "        if all(num % prime != 0 for prime in primes):\n",
    "            primes.append(num)\n",
    "            yield num\n",
    "        num += 1\n",
    "\n",
    "generator = prime_generator()\n",
    "for _ in range(20):\n",
    "    prime = next(generator)\n",
    "    print(prime)"
   ]
  },
  {
   "cell_type": "code",
   "execution_count": 8,
   "id": "12484f29",
   "metadata": {},
   "outputs": [
    {
     "name": "stdout",
     "output_type": "stream",
     "text": [
      "0\n",
      "1\n",
      "1\n",
      "2\n",
      "3\n",
      "5\n",
      "8\n",
      "13\n",
      "21\n",
      "34\n"
     ]
    }
   ],
   "source": [
    "#Q6. Write a python program to print the first 10 Fibonacci numbers using a while loop.\n",
    "\n",
    "def print_fibonacci():\n",
    "    num1 = 0\n",
    "    num2 = 1\n",
    "    count = 0\n",
    "\n",
    "    while count < 10:\n",
    "        print(num1)\n",
    "        temp = num1 + num2\n",
    "        num1 = num2\n",
    "        num2 = temp\n",
    "        count += 1\n",
    "        \n",
    "print_fibonacci()\n"
   ]
  },
  {
   "cell_type": "code",
   "execution_count": 9,
   "id": "5588d5a2",
   "metadata": {},
   "outputs": [
    {
     "name": "stdout",
     "output_type": "stream",
     "text": [
      "['p', 'w', 's', 'k', \"'i'\", \"'l'\", \"'l'\", 's']\n"
     ]
    }
   ],
   "source": [
    "#Q7. Write a List Comprehension to iterate through the given string: 'pwskills'. Expected output: ['p','w','s','k','i','l','l',s]\n",
    "string = 'pwskills'\n",
    "output = [char if char in ['p', 'w', 's', 'k'] else \"'\" + char + \"'\" for char in string]\n",
    "print(output)\n"
   ]
  },
  {
   "cell_type": "code",
   "execution_count": 10,
   "id": "a7eb42a3",
   "metadata": {},
   "outputs": [
    {
     "name": "stdout",
     "output_type": "stream",
     "text": [
      "Enter a number: 321\n",
      "321 is not a palindrome\n"
     ]
    }
   ],
   "source": [
    "#Q8. Write a python program to check whether a given number is Palindrome or not using a while loop.\n",
    "def is_palindrome(number):\n",
    "    original_number = number\n",
    "    reverse = 0\n",
    "\n",
    "    while number > 0:\n",
    "        digit = number % 10\n",
    "        reverse = (reverse * 10) + digit\n",
    "        number //= 10\n",
    "\n",
    "    if original_number == reverse:\n",
    "        return True\n",
    "    else:\n",
    "        return False\n",
    "\n",
    "num = int(input(\"Enter a number: \"))\n",
    "if is_palindrome(num):\n",
    "    print(num, \"is a palindrome\")\n",
    "else:\n",
    "    print(num, \"is not a palindrome\")\n"
   ]
  },
  {
   "cell_type": "code",
   "execution_count": 11,
   "id": "595878f6",
   "metadata": {},
   "outputs": [
    {
     "name": "stdout",
     "output_type": "stream",
     "text": [
      "[1, 3, 5, 7, 9, 11, 13, 15, 17, 19, 21, 23, 25, 27, 29, 31, 33, 35, 37, 39, 41, 43, 45, 47, 49, 51, 53, 55, 57, 59, 61, 63, 65, 67, 69, 71, 73, 75, 77, 79, 81, 83, 85, 87, 89, 91, 93, 95, 97, 99]\n"
     ]
    }
   ],
   "source": [
    "#Q9. Write a code to print odd numbers from 1 to 100 using list comprehension.\n",
    "\n",
    "odd_numbers = [num for num in range(1, 101) if num % 2 != 0]\n",
    "print(odd_numbers)\n"
   ]
  }
 ],
 "metadata": {
  "kernelspec": {
   "display_name": "Python 3 (ipykernel)",
   "language": "python",
   "name": "python3"
  },
  "language_info": {
   "codemirror_mode": {
    "name": "ipython",
    "version": 3
   },
   "file_extension": ".py",
   "mimetype": "text/x-python",
   "name": "python",
   "nbconvert_exporter": "python",
   "pygments_lexer": "ipython3",
   "version": "3.9.12"
  }
 },
 "nbformat": 4,
 "nbformat_minor": 5
}
