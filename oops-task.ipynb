{
 "cells": [
  {
   "cell_type": "code",
   "execution_count": 1,
   "id": "5813a64a",
   "metadata": {},
   "outputs": [
    {
     "name": "stdout",
     "output_type": "stream",
     "text": [
      "Name of Vehicle: Toyota \n",
      "Max Speed: 200\n",
      "Average of Vehicle: 30\n"
     ]
    }
   ],
   "source": [
    "#QI, Create a vehicle class with an init method having instance variables as name_of_vehicle, max_speed and average_of_vehicle.\n",
    "\n",
    "class Vehicle:\n",
    "    def __init__(self, name_of_vehicle, max_speed, average_of_vehicle):\n",
    "        self.name_of_vehicle = name_of_vehicle\n",
    "        self.max_speed = max_speed\n",
    "        self.average_of_vehicle = average_of_vehicle\n",
    "\n",
    "car = Vehicle(\"Toyota \", 200, 30)\n",
    "\n",
    "print(\"Name of Vehicle:\", car.name_of_vehicle)\n",
    "print(\"Max Speed:\", car.max_speed)\n",
    "print(\"Average of Vehicle:\", car.average_of_vehicle)\n"
   ]
  },
  {
   "cell_type": "code",
   "execution_count": 2,
   "id": "feec4ae4",
   "metadata": {},
   "outputs": [
    {
     "name": "stdout",
     "output_type": "stream",
     "text": [
      "Toyota Corolla has a seating capacity of 5 passengers.\n"
     ]
    }
   ],
   "source": [
    "#Q2. Create a child class car from the vehicle class created in Que 1, which will inherit the vehicle class. Create a method named seating capacity which takes capacity as an argument and returns the name of the vehicle and its seating capacity.\n",
    "\n",
    "class Vehicle:\n",
    "    def __init__(self, name_of_vehicle, max_speed, average_of_vehicle):\n",
    "        self.name_of_vehicle = name_of_vehicle\n",
    "        self.max_speed = max_speed\n",
    "        self.average_of_vehicle = average_of_vehicle\n",
    "\n",
    "class Car(Vehicle):\n",
    "    def __init__(self, name_of_vehicle, max_speed, average_of_vehicle):\n",
    "        super().__init__(name_of_vehicle, max_speed, average_of_vehicle)\n",
    "\n",
    "    def seating_capacity(self, capacity):\n",
    "        return f\"{self.name_of_vehicle} has a seating capacity of {capacity} passengers.\"\n",
    "\n",
    "\n",
    "car1 = Car(\"Toyota Corolla\", 200, 30)\n",
    "\n",
    "capacity = 5\n",
    "print(car1.seating_capacity(capacity))\n"
   ]
  },
  {
   "cell_type": "code",
   "execution_count": 3,
   "id": "7b9aeb9e",
   "metadata": {},
   "outputs": [
    {
     "name": "stdout",
     "output_type": "stream",
     "text": [
      "Vehicle: Toyota Corolla\n",
      "Engine Type: Petrol\n"
     ]
    }
   ],
   "source": [
    "#Q3. What is multiple inheritance? Write a python code to demonstrate multiple inheritance.\n",
    "\n",
    "#Multiple inheritance is a feature in object-oriented programming where a class can inherit properties and behaviors from \n",
    "#multiple parent classes. In Python, a class can inherit from multiple classes by listing all the parent classes inside\n",
    "#parentheses when defining the child class.\n",
    "\n",
    "class Vehicle:\n",
    "    def __init__(self, name_of_vehicle):\n",
    "        self.name_of_vehicle = name_of_vehicle\n",
    "\n",
    "    def display_info(self):\n",
    "        print(f\"Vehicle: {self.name_of_vehicle}\")\n",
    "\n",
    "class Engine:\n",
    "    def __init__(self, engine_type):\n",
    "        self.engine_type = engine_type\n",
    "\n",
    "    def display_engine_info(self):\n",
    "        print(f\"Engine Type: {self.engine_type}\")\n",
    "\n",
    "class Car(Vehicle, Engine):\n",
    "    def __init__(self, name_of_vehicle, engine_type):\n",
    "        Vehicle.__init__(self, name_of_vehicle)\n",
    "        Engine.__init__(self, engine_type)\n",
    "\n",
    "car1 = Car(\"Toyota Corolla\", \"Petrol\")\n",
    "car1.display_info()\n",
    "car1.display_engine_info()"
   ]
  },
  {
   "cell_type": "code",
   "execution_count": 4,
   "id": "df6425d1",
   "metadata": {},
   "outputs": [
    {
     "name": "stdout",
     "output_type": "stream",
     "text": [
      "Name: John Doe\n",
      "Age: 30\n",
      "Updated Name: Jane Doe\n",
      "Updated Age: 35\n",
      "Invalid age. Age should be a positive value.\n"
     ]
    }
   ],
   "source": [
    "#Q4. What are getter and setter in python? Create a class and create a getter and a setter method in this class.\n",
    "\n",
    "#In Python, getters and setters are methods used to control access to an object's attributes. They provide an interface to \n",
    "#retrieve (getter) or modify (setter) the values of private instance variables in a class. Using getters and setters helps to \n",
    "#enforce encapsulation and data abstraction, allowing you to validate or manipulate the attribute values before getting or \n",
    "#setting them.\n",
    "\n",
    "class Person:\n",
    "    def __init__(self, name, age):\n",
    "        self._name = name\n",
    "        self._age = age\n",
    "\n",
    "    def get_name(self):\n",
    "        return self._name\n",
    "\n",
    "    def set_name(self, name):\n",
    "        self._name = name\n",
    "\n",
    "    def get_age(self):\n",
    "        return self._age\n",
    "\n",
    "    def set_age(self, age):\n",
    "        if age > 0:\n",
    "            self._age = age\n",
    "        else:\n",
    "            print(\"Invalid age. Age should be a positive value.\")\n",
    "\n",
    "person1 = Person(\"John Doe\", 30)\n",
    "\n",
    "print(\"Name:\", person1.get_name())\n",
    "print(\"Age:\", person1.get_age())\n",
    "\n",
    "person1.set_name(\"Jane Doe\")\n",
    "print(\"Updated Name:\", person1.get_name())\n",
    "\n",
    "person1.set_age(35)\n",
    "print(\"Updated Age:\", person1.get_age())\n",
    "\n",
    "person1.set_age(-5)\n"
   ]
  },
  {
   "cell_type": "code",
   "execution_count": 5,
   "id": "b20db922",
   "metadata": {},
   "outputs": [
    {
     "name": "stdout",
     "output_type": "stream",
     "text": [
      "Generic animal sound\n",
      "Bark bark!\n",
      "Meow!\n"
     ]
    }
   ],
   "source": [
    "#Q5. What is method overriding in python? Write a python code to demonstrate method overriding.\n",
    "\n",
    "#Method overriding is a feature in object-oriented programming where a subclass provides a specific implementation of a method\n",
    "#that is already defined in its superclass. When a method in the subclass has the same name and signature (method name and \n",
    "#parameters) as a method in the superclass, it overrides the method in the superclass. This allows the subclass to provide its\n",
    "#own customized behavior for the method, while still having access to the attributes and methods of the superclass.\n",
    "\n",
    "class Animal:\n",
    "    def make_sound(self):\n",
    "        print(\"Generic animal sound\")\n",
    "\n",
    "class Dog(Animal):\n",
    "    def make_sound(self):\n",
    "        print(\"Bark bark!\")\n",
    "\n",
    "class Cat(Animal):\n",
    "    def make_sound(self):\n",
    "        print(\"Meow!\")\n",
    "\n",
    "animal = Animal()\n",
    "dog = Dog()\n",
    "cat = Cat()\n",
    "\n",
    "animal.make_sound() \n",
    "dog.make_sound()    \n",
    "cat.make_sound()    \n"
   ]
  }
 ],
 "metadata": {
  "kernelspec": {
   "display_name": "Python 3 (ipykernel)",
   "language": "python",
   "name": "python3"
  },
  "language_info": {
   "codemirror_mode": {
    "name": "ipython",
    "version": 3
   },
   "file_extension": ".py",
   "mimetype": "text/x-python",
   "name": "python",
   "nbconvert_exporter": "python",
   "pygments_lexer": "ipython3",
   "version": "3.9.12"
  }
 },
 "nbformat": 4,
 "nbformat_minor": 5
}
