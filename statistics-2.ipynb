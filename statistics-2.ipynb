{
 "cells": [
  {
   "cell_type": "code",
   "execution_count": null,
   "id": "d129247f",
   "metadata": {},
   "outputs": [],
   "source": [
    "#Q1. What are the three measures of central tendency?\n",
    "\n",
    "The three measures of central tendency are:\n",
    "\n",
    "Mean: The mean is the average of a set of numbers. It is calculated by adding up all the values in the data set and then dividing the sum by the total number of values. The mean is sensitive to extreme values, as they can significantly influence its value.\n",
    "\n",
    "Median: The median is the middle value of a data set when it is arranged in ascending or descending order. If there is an odd number of data points, the median is the middle value. If there is an even number of data points, the median is the average of the two middle values. The median is less affected by extreme values compared to the mean.\n",
    "\n",
    "Mode: The mode is the value that appears most frequently in a data set. In other words, it is the data point that occurs with the highest frequency. A data set can have one mode (unimodal), two modes (bimodal), or more (multimodal). Unlike the mean and median, the mode can be used for both numerical and categorical data.\n"
   ]
  },
  {
   "cell_type": "code",
   "execution_count": null,
   "id": "9c7e70a4",
   "metadata": {},
   "outputs": [],
   "source": [
    "#Q2. What is the difference between the mean, median, and mode? How are they used to measure the central tendency of a dataset?\n",
    "\n",
    "The mean, median, and mode are three different measures of central tendency used to describe the center or typical value of a dataset. They serve different purposes and are useful in different scenarios. Here a summary of their differences and how they are used to measure central tendency:\n",
    "\n",
    "Mean:\n",
    "Definition: The mean is the arithmetic average of a dataset. It is calculated by adding up all the values in the dataset and then dividing the sum by the total number of values.\n",
    "Use: The mean is commonly used when dealing with numerical data. It provides a balanced representation of the dataset by taking into account all values equally. However, it can be heavily influenced by extreme values, as they have a direct impact on its value.\n",
    "Median:\n",
    "Definition: The median is the middle value of a dataset when it is ordered in ascending or descending order. If the dataset has an odd number of observations, the median is the middle value. If there is an even number of observations, the median is the average of the two middle values.\n",
    "Use: The median is useful when dealing with skewed distributions or when the dataset contains outliers. It is less sensitive to extreme values compared to the mean, making it a robust measure of central tendency.\n",
    "Mode:\n",
    "Definition: The mode is the value that appears most frequently in a dataset.\n",
    "Use: The mode is commonly used for categorical data or discrete data with distinct categories. It provides information about the most typical or frequently occurring category in the dataset. In some cases, datasets may have multiple modes (bimodal or multimodal)."
   ]
  },
  {
   "cell_type": "code",
   "execution_count": 3,
   "id": "c539a166",
   "metadata": {},
   "outputs": [
    {
     "name": "stdout",
     "output_type": "stream",
     "text": [
      "Mean height: 177.01875\n",
      "Median height: 177.0\n",
      "Mode height: 178\n"
     ]
    }
   ],
   "source": [
    "#Q3. Measure the three measures of central tendency for the given height data:\n",
    "#[178,177,176,177,178.2,178,175,179,180,175,178.9,176.2,177,172.5,178,176.5]\n",
    "\n",
    "from statistics import mean, median, mode\n",
    "height_data = [178, 177, 176, 177, 178.2, 178, 175, 179, 180, 175, 178.9, 176.2, 177, 172.5, 178, 176.5]\n",
    "\n",
    "mean_height = mean(height_data)\n",
    "median_height = median(height_data)\n",
    "mode_height = mode(height_data)\n",
    "\n",
    "print(\"Mean height:\", mean_height)\n",
    "print(\"Median height:\", median_height)\n",
    "print(\"Mode height:\", mode_height)"
   ]
  },
  {
   "cell_type": "code",
   "execution_count": 7,
   "id": "39ade518",
   "metadata": {},
   "outputs": [
    {
     "name": "stdout",
     "output_type": "stream",
     "text": [
      "standard deviation for the given data 1.8472389305844188\n"
     ]
    }
   ],
   "source": [
    "#Q4. Find the standard deviation for the given data:\n",
    "#[178,177,176,177,178.2,178,175,179,180,175,178.9,176.2,177,172.5,178,176.5]\n",
    "\n",
    "import statistics as st\n",
    "data=[178,177,176,177,178.2,178,175,179,180,175,178.9,176.2,177,172.5,178,176.5]\n",
    "\n",
    "print(\"standard deviation for the given data\", st.stdev(height_data))"
   ]
  },
  {
   "cell_type": "code",
   "execution_count": null,
   "id": "babf826f",
   "metadata": {},
   "outputs": [],
   "source": [
    "#Q5. How are measures of dispersion such as range, variance, and standard deviation used to describe the spread of a dataset? Provide an example.\n",
    "\n",
    "Range:\n",
    "Definition: The range is the simplest measure of dispersion and represents the difference between the maximum and minimum values in a dataset. It gives a rough idea of the spread but is sensitive to outliers.\n",
    "\n",
    "Variance:\n",
    "Definition: Variance measures the average of the squared differences between each data point and the mean of the dataset. It gives a more detailed understanding of how the data points deviate from the mean, but it does not have the same unit as the original data.\n",
    "\n",
    "Standard Deviation:\n",
    "Definition: The standard deviation is the square root of the variance. It measures the typical or average amount of dispersion of the data points from the mean. Standard deviation is widely used because it is in the same unit as the original data, making it more interpretable than the variance.\n",
    "\n",
    "Test Scores: [80, 85, 90, 88, 75]\n",
    "\n",
    "Range: Range = Maximum value - Minimum value\n",
    "Range = 90 - 75 = 15\n",
    "\n",
    "Variance and Standard Deviation: (Assuming sample data, divide by N-1 for population data)\n",
    "Mean = (80 + 85 + 90 + 88 + 75) / 5 ≈ 83.6\n",
    "\n",
    "Variance = Σ (xi - mean)² / N\n",
    "Variance ≈ ((80-83.6)² + (85-83.6)² + (90-83.6)² + (88-83.6)² + (75-83.6)²) / 5 ≈ 29.44\n",
    "\n",
    "Standard Deviation = √Variance ≈ √29.44 ≈ 5.43"
   ]
  },
  {
   "cell_type": "code",
   "execution_count": null,
   "id": "cb27f91a",
   "metadata": {},
   "outputs": [],
   "source": [
    "#Q6. What is a Venn diagram?\n",
    "\n",
    "A Venn diagram is a graphical representation of the relationships between different sets or groups of data. It uses circles (or \n",
    "other closed shapes) to illustrate the elements of each set and the intersections between the sets. The primary purpose of a\n",
    "Venn diagram is to visually depict the commonalities and differences among the sets, helping to understand set relationships\n",
    "and overlaps."
   ]
  },
  {
   "cell_type": "code",
   "execution_count": 9,
   "id": "3ce79d5d",
   "metadata": {},
   "outputs": [
    {
     "name": "stdout",
     "output_type": "stream",
     "text": [
      "Intersection of A and B: {2, 6}\n",
      "Union of A and B: {0, 2, 3, 4, 5, 6, 7, 8, 10}\n"
     ]
    }
   ],
   "source": [
    "#Q7. For the two given sets A = (2,3,4,5,6,7) & B = (0,2,6,8,10). Find:\n",
    "# i ) A  B    ii ) A ⋃ B\n",
    "\n",
    "A = {2, 3, 4, 5, 6, 7}\n",
    "B = {0, 2, 6, 8, 10}\n",
    "\n",
    "intersection = A.intersection(B)\n",
    "print(\"Intersection of A and B:\", intersection)\n",
    "\n",
    "union = A.union(B)\n",
    "print(\"Union of A and B:\", union)\n"
   ]
  },
  {
   "cell_type": "code",
   "execution_count": null,
   "id": "bc34ed94",
   "metadata": {},
   "outputs": [],
   "source": [
    "#Q8. What do you understand about skewness in data?\n",
    "\n",
    "There are three types of skewness:\n",
    "\n",
    "Positive Skewness (Right-skewed):\n",
    "In a positively skewed distribution, the tail of the data points extends more towards the right side, while the majority of the data is concentrated towards the left side. The mean is greater than the median in a positively skewed distribution.\n",
    "\n",
    "Negative Skewness (Left-skewed):\n",
    "In a negatively skewed distribution, the tail of the data points extends more towards the left side, while the majority of the data is concentrated towards the right side. The mean is less than the median in a negatively skewed distribution.\n",
    "\n",
    "Symmetric Distribution (No Skewness):\n",
    "A symmetric distribution has a balanced and symmetrical shape, with equal proportions of data on both sides of the central tendency. The mean, median, and mode are all approximately the same."
   ]
  },
  {
   "cell_type": "code",
   "execution_count": null,
   "id": "7e4c87df",
   "metadata": {},
   "outputs": [],
   "source": [
    "#Q9. If a data is right skewed then what will be the position of median with respect to mean?\n",
    "\n",
    "If a data distribution is right-skewed, the position of the median with respect to the mean will be less than the mean. In a right-skewed distribution, the tail of the data points extends more towards the right side, which means there are relatively more extreme values on the right side of the distribution.\n",
    "\n",
    "Since the median represents the middle value of the data when it is arranged in ascending or descending order, it is less affected by extreme values. In a right-skewed distribution, the higher extreme values on the right side \"pull\" the mean towards the right, making it larger than the median."
   ]
  },
  {
   "cell_type": "code",
   "execution_count": null,
   "id": "83561ff1",
   "metadata": {},
   "outputs": [],
   "source": [
    "#Q10. Explain the difference between covariance and correlation. How are these measures used in statistical analysis?\n",
    "\n",
    "Covariance and correlation are two measures used in statistics to describe the relationship between two variables. While they both indicate the degree of association between variables, they have different properties and interpretations:\n",
    "\n",
    "Covariance:\n",
    "    \n",
    "Definition: Covariance measures the extent to which two variables change together. It indicates the direction of the relationship (positive or negative) and the magnitude of the relationship (how much the variables vary together).\n",
    "Formula: For two variables X and Y with n data points, the sample covariance is calculated as follows:\n",
    "Cov(X, Y) = Σ [(X_i - X̄) * (Y_i - Ȳ)] / (n - 1)\n",
    "Where X̄ and Ȳ are the sample means of X and Y, respectively, and (X_i, Y_i) are the data points.\n",
    "Interpretation: A positive covariance suggests that as one variable increases, the other tends to increase as well. A negative covariance indicates that as one variable increases, the other tends to decrease. If the covariance is close to zero, there is little or no linear relationship between the variables.\n",
    "\n",
    "Correlation:\n",
    "    \n",
    "Definition: Correlation is a standardized measure that represents the strength and direction of the linear relationship between two variables. It is a dimensionless value that falls between -1 and 1, making it easier to interpret than covariance.\n",
    "Formula: The Pearson correlation coefficient (r) is the most common type of correlation and is calculated as follows:\n",
    "r = Cov(X, Y) / (σ_X * σ_Y)\n",
    "Where Cov(X, Y) is the covariance between X and Y, and σ_X and σ_Y are the standard deviations of X and Y, respectively.\n",
    "Interpretation: A positive correlation (r > 0) indicates a direct relationship, meaning that as one variable increases, the other tends to increase. A negative correlation (r < 0) suggests an inverse relationship, where one variable increases as the other decreases. A correlation of 0 (r ≈ 0) implies no linear relationship between the variables."
   ]
  },
  {
   "cell_type": "code",
   "execution_count": null,
   "id": "e82e0cfc",
   "metadata": {},
   "outputs": [],
   "source": [
    "#Q11. What is the formula for calculating the sample mean? Provide an example calculation for a dataset.\n",
    "\n",
    "#The formula for the sample mean is as follows:\n",
    "#Sample Mean (X̄) = (Sum of all data points) / (Number of data points)\n",
    "\n",
    "\n",
    "dataset = [12, 15, 18, 20, 25]\n",
    "\n",
    "sum_data = sum(dataset)\n",
    "n = len(dataset)\n",
    "\n",
    "# Calculate the sample mean\n",
    "sample_mean = sum_data / n\n",
    "\n",
    "print(\"Sample Mean:\", sample_mean)"
   ]
  },
  {
   "cell_type": "code",
   "execution_count": 13,
   "id": "99334fd0",
   "metadata": {},
   "outputs": [],
   "source": [
    "#Q12. For a normal distribution data what is the relationship between its measure of central tendency?\n",
    "\n",
    "For a normal distribution, the measures of central tendency (mean, median, and mode) are equal to each other. This property is a key characteristic of a symmetric normal distribution.\n",
    "\n",
    "In a normal distribution, the data is symmetrically distributed around the mean. The mean is located at the center of the distribution, and the median also falls at the same point. Since the data is symmetric, the mode, which represents the value that occurs most frequently, will also be at the center of the distribution, coinciding with the mean and median.\n",
    "\n",
    "In summary, for a normal distribution:\n",
    "\n",
    "Mean = Median = Mode\n",
    "\n",
    "This property makes the normal distribution unique among other probability distributions and is one of the reasons why it is \n",
    "widely used in statistics and data analysis. It allows for easy interpretation and calculation of measures of central tendency \n",
    "since they are all the same value. Additionally, this characteristic simplifies the process of making inferences and predictions\n",
    "based on the data from a normally distributed population."
   ]
  },
  {
   "cell_type": "code",
   "execution_count": null,
   "id": "c5133a4f",
   "metadata": {},
   "outputs": [],
   "source": [
    "\n"
   ]
  },
  {
   "cell_type": "code",
   "execution_count": 12,
   "id": "822813c3",
   "metadata": {},
   "outputs": [],
   "source": [
    "#Q13. How is covariance different from correlation?\n",
    "Covariance and correlation are both measures used to quantify the relationship between two variables.\n",
    "\n",
    "Definition:\n",
    "\n",
    "Covariance: Covariance measures the extent to which two variables change together. It indicates the direction (positive or negative) and the magnitude of the relationship between variables.\n",
    "Correlation: Correlation is a standardized measure that represents the strength and direction of the linear relationship between two variables. It is a dimensionless value that ranges from -1 to 1.\n",
    "\n",
    "Scale:\n",
    "Covariance: The covariance value is not standardized and depends on the scales of the variables being measured. Therefore, it is difficult to interpret the magnitude of covariance directly without knowing the specific scales of the variables.\n",
    "Correlation: Correlation is a standardized value and is not affected by the scales of the variables. It always ranges between -1 and 1, making it easier to compare the strengths of relationships across different studies or datasets.\n",
    "\n",
    "Interpretation:\n",
    "Covariance: A positive covariance indicates a direct relationship, meaning that as one variable increases, the other tends to increase. A negative covariance suggests an inverse relationship, where one variable increases as the other decreases. However, the magnitude of covariance does not provide a clear indication of the strength of the relationship.\n",
    "Correlation: Correlation provides a clear indication of the strength and direction of the linear relationship between variables. A positive correlation (r > 0) indicates a direct relationship, and a negative correlation (r < 0) suggests an inverse relationship. The magnitude of the correlation coefficient indicates the strength of the relationship: a value closer to 1 or -1 indicates a stronger relationship, while a value closer to 0 indicates a weaker or no linear relationship.\n",
    "\n",
    "Range:\n",
    "Covariance: Covariance has no specific range. It can take any positive or negative value depending on the data.\n",
    "Correlation: Correlation coefficients range from -1 to 1. A correlation of -1 indicates a perfect negative linear relationship, a correlation of 1 indicates a perfect positive linear relationship, and a correlation of 0 indicates no linear relationship."
   ]
  },
  {
   "cell_type": "code",
   "execution_count": 19,
   "id": "ba9852e0",
   "metadata": {},
   "outputs": [
    {
     "name": "stdout",
     "output_type": "stream",
     "text": [
      "With Outlier:\n",
      "Mean: 101.85714285714286\n",
      "Median: 88\n",
      "Variance: 1915.8095238095236\n",
      "Standard Deviation:  43.769961432579805\n",
      "\n",
      "\n",
      "Without Outlier:\n",
      "Mean: 85.5\n",
      "Median: 88\n",
      "Variance: 51.5\n",
      "Standard Deviation: 7.176350047203662\n"
     ]
    }
   ],
   "source": [
    "#Q14. How do outliers affect measures of central tendency and dispersion? Provide an example?\n",
    "\n",
    "#Outliers can have a significant impact on measures of central tendency and dispersion in a dataset. An outlier is an extreme value that lies far away from the bulk of the data points. Outliers can affect the calculation of the mean, median, mode, variance, and standard deviation, leading to distorted results.\n",
    "\n",
    "#Measures of Central Tendency:\n",
    "\n",
    "#Mean: Outliers can greatly influence the mean since it involves the sum of all data points. A single extreme value can significantly shift the mean towards the outlier.\n",
    "#median: The median is less affected by outliers. It represents the middle value and is not influenced by extreme values.\n",
    "#Mode: Outliers do not affect the mode, as it represents the most frequently occurring value in the dataset.\n",
    "\n",
    "#Measures of Dispersion:\n",
    "\n",
    "#Range: Outliers can substantially impact the range, as it is determined by the difference between the maximum and minimum values in the dataset.\n",
    "#Variance and Standard Deviation: Outliers can cause the variance and standard deviation to be higher because they introduce additional variability. The squared differences between data points and the mean are magnified by the presence of outliers, leading to larger variance and standard deviation values.\n",
    "\n",
    "# Example Dataset with an outlier\n",
    "dataset_with_outlier = [80, 85, 90, 88, 75, 95, 200]\n",
    "\n",
    "# Measures of Central Tendency\n",
    "mean_with_outlier = sum(dataset_with_outlier) / len(dataset_with_outlier)\n",
    "median_with_outlier = sorted(dataset_with_outlier)[len(dataset_with_outlier) // 2]\n",
    "\n",
    "# Measures of Dispersion\n",
    "variance_with_outlier = sum((x - mean_with_outlier) ** 2 for x in dataset_with_outlier) / (len(dataset_with_outlier) - 1)\n",
    "standard_deviation_with_outlier = variance_with_outlier ** 0.5\n",
    "\n",
    "print(\"With Outlier:\")\n",
    "print(\"Mean:\", mean_with_outlier)\n",
    "print(\"Median:\", median_with_outlier)\n",
    "print(\"Variance:\", variance_with_outlier)\n",
    "print(\"Standard Deviation: \", standard_deviation_with_outlier)\n",
    "print(\"\\n\")\n",
    "# Dataset without the outlier\n",
    "dataset_without_outlier = [80, 85, 90, 88, 75, 95]\n",
    "\n",
    "# Measures of Central Tendency\n",
    "mean_without_outlier = sum(dataset_without_outlier) / len(dataset_without_outlier)\n",
    "median_without_outlier = sorted(dataset_without_outlier)[len(dataset_without_outlier) // 2]\n",
    "\n",
    "# Measures of Dispersion\n",
    "variance_without_outlier = sum((x - mean_without_outlier) ** 2 for x in dataset_without_outlier) / (len(dataset_without_outlier) - 1)\n",
    "standard_deviation_without_outlier = variance_without_outlier ** 0.5\n",
    "\n",
    "print(\"Without Outlier:\")\n",
    "print(\"Mean:\", mean_without_outlier)\n",
    "print(\"Median:\", median_without_outlier)\n",
    "print(\"Variance:\", variance_without_outlier)\n",
    "print(\"Standard Deviation:\", standard_deviation_without_outlier)\n",
    "\n"
   ]
  },
  {
   "cell_type": "code",
   "execution_count": null,
   "id": "34bb12a0",
   "metadata": {},
   "outputs": [],
   "source": []
  }
 ],
 "metadata": {
  "kernelspec": {
   "display_name": "Python 3 (ipykernel)",
   "language": "python",
   "name": "python3"
  },
  "language_info": {
   "codemirror_mode": {
    "name": "ipython",
    "version": 3
   },
   "file_extension": ".py",
   "mimetype": "text/x-python",
   "name": "python",
   "nbconvert_exporter": "python",
   "pygments_lexer": "ipython3",
   "version": "3.9.12"
  }
 },
 "nbformat": 4,
 "nbformat_minor": 5
}
