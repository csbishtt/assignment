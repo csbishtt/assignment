{
 "cells": [
  {
   "cell_type": "code",
   "execution_count": 2,
   "id": "6b9aa1b5",
   "metadata": {},
   "outputs": [],
   "source": [
    "# Q1. Create one variable containing following type of data:\n",
    "\n",
    "# (i) string \n",
    "my_string=\"data science\"\n",
    "\n",
    "# (ii) list\n",
    "my_list = [ 'DS', 'ML', 'Python']\n",
    "\n",
    "# (iii) float\n",
    "my_float=2.2345\n",
    "\n",
    "# (iv) tuple\n",
    "my_tuple= ('DS', 'ML', 'Python')"
   ]
  },
  {
   "cell_type": "code",
   "execution_count": 3,
   "id": "a849c59f",
   "metadata": {},
   "outputs": [
    {
     "name": "stdout",
     "output_type": "stream",
     "text": [
      "<class 'str'>\n",
      "<class 'str'>\n",
      "<class 'list'>\n",
      "<class 'float'>\n"
     ]
    }
   ],
   "source": [
    "# Q2. Given are some following variables containing data:\n",
    "# (ii) var1=''\n",
    "# (ii) var2='[DS, ML, Python]'\n",
    "# (iii) var3 = [ 'DS', 'ML', 'Python']\n",
    "# (iv) var4 = 1.\n",
    "# What will be the data type of the above given variable.\n",
    "\n",
    "var1=''\n",
    "var2='[DS, ML, Python]'\n",
    "var3 = [ 'DS', 'ML', 'Python']\n",
    "var4 = 1.\n",
    "print(type(var1))\n",
    "print(type(var2))\n",
    "print(type(var3))\n",
    "print(type(var4))"
   ]
  },
  {
   "cell_type": "code",
   "execution_count": 4,
   "id": "582d7e6b",
   "metadata": {},
   "outputs": [
    {
     "name": "stdout",
     "output_type": "stream",
     "text": [
      "2.0\n",
      "0\n",
      "2\n",
      "16\n"
     ]
    }
   ],
   "source": [
    "# Q3. Explain the use of the following operators using an example:\n",
    "# (i) / (Division Operator):\n",
    "# The division operator / is used to divide one number by another and returns the quotient as a floating-point number (decimal). \n",
    "# It performs regular division.\n",
    "\n",
    "# (ii) % (Modulo Operator):\n",
    "# The modulo operator % is used to find the remainder of the division between two numbers. It returns the remainder after division\n",
    "\n",
    "# (iii) // (Floor Division Operator):\n",
    "# The floor division operator // performs division and rounds the result down to the nearest whole number (integer). It discards \n",
    "# any fractional part.\n",
    "\n",
    "# (iv) ** (Exponentiation Operator):\n",
    "# The exponentiation operator ** is used to raise a number to a given power. It calculates the exponentiation of the left \n",
    "# operand with the right operand as the exponent.\n",
    "\n",
    "# Example:\n",
    "num1=4\n",
    "num2=2\n",
    "\n",
    "# (i)/\n",
    "op=num1/num2\n",
    "print(op)\n",
    "\n",
    "# (ii)%\n",
    "op=num1%num2\n",
    "print(op)\n",
    "\n",
    "# (iii)//\n",
    "op=num1//num2\n",
    "print(op)\n",
    "\n",
    "# (iv)**\n",
    "op=num1**num2\n",
    "print(op)"
   ]
  },
  {
   "cell_type": "code",
   "execution_count": 5,
   "id": "b97d63f3",
   "metadata": {},
   "outputs": [
    {
     "name": "stdout",
     "output_type": "stream",
     "text": [
      "12    2    23    4    DS    ML    Python    8    24    12    "
     ]
    }
   ],
   "source": [
    "# Q4. Create a list of length 10 of your choice containing multiple types of data.\n",
    "# Using for loop print the element and its data type.\n",
    "\n",
    "res = [ 12,2,23,4,'DS', 'ML', 'Python',8,24,12]\n",
    "\n",
    "for i in res:\n",
    "    print(i,end=\"    \")"
   ]
  },
  {
   "cell_type": "code",
   "execution_count": 8,
   "id": "29de484a",
   "metadata": {},
   "outputs": [
    {
     "name": "stdout",
     "output_type": "stream",
     "text": [
      "the num_1 is divisible by num_2 by 2 times\n"
     ]
    }
   ],
   "source": [
    "# Q5. Using a while loop, verify if the number A is purely divisible by number B and if so then how many times it can be divisible.\n",
    "A=100\n",
    "B=5\n",
    "\n",
    "count=0\n",
    "\n",
    "while A % B==0:\n",
    "    A=A/B\n",
    "    count+=1\n",
    "    \n",
    "if count>0:\n",
    "    print(\"the num_1 is divisible by num_2 by\",count,\"times\")\n",
    "else:\n",
    "    print(\"the num_1 is not divisible by num_2 by \")"
   ]
  },
  {
   "cell_type": "code",
   "execution_count": 9,
   "id": "de5805b4",
   "metadata": {},
   "outputs": [
    {
     "name": "stdout",
     "output_type": "stream",
     "text": [
      "2 is not divisible by 3\n",
      "6 is divisible by 3\n",
      "3 is divisible by 3\n",
      "7 is not divisible by 3\n",
      "1 is not divisible by 3\n",
      "5 is not divisible by 3\n",
      "9 is divisible by 3\n",
      "11 is not divisible by 3\n",
      "14 is not divisible by 3\n",
      "16 is not divisible by 3\n",
      "17 is not divisible by 3\n",
      "13 is not divisible by 3\n",
      "19 is not divisible by 3\n",
      "20 is not divisible by 3\n",
      "21 is divisible by 3\n",
      "22 is not divisible by 3\n",
      "23 is not divisible by 3\n",
      "24 is divisible by 3\n",
      "25 is not divisible by 3\n",
      "26 is not divisible by 3\n",
      "20 is not divisible by 3\n",
      "27 is divisible by 3\n",
      "30 is divisible by 3\n",
      "33 is divisible by 3\n",
      "34 is not divisible by 3\n"
     ]
    }
   ],
   "source": [
    "# Q6. Create a list containing 25 int type data. Using for loop and if-else condition print if the element is divisible by 3 or not.\n",
    "list=[2,6,3,7,1,5,9,11,14,16,17,13,19,20,21,22,23,24,25,26,20,27,30,33,34]\n",
    "\n",
    "for num in list:\n",
    "    if num%3==0:\n",
    "        print(num,\"is divisible by 3\")\n",
    "    else:\n",
    "         print(num,\"is not divisible by 3\")"
   ]
  },
  {
   "cell_type": "code",
   "execution_count": 10,
   "id": "5ff6632e",
   "metadata": {},
   "outputs": [
    {
     "name": "stdout",
     "output_type": "stream",
     "text": [
      "[1, 2, 3, 4]\n",
      "[1, 5, 3, 4]\n",
      "Hello\n",
      "Hello World\n"
     ]
    }
   ],
   "source": [
    "# Q7. What do you understand about mutable and immutable data types? Give examples for both showing this property.\n",
    "\n",
    "# ans -->\n",
    "# In programming, mutable and immutable are terms used to describe the properties of data types.\n",
    "\n",
    "# mutable data types are those that can be modified after they are created. Operations can change the internal state of the \n",
    "# object without creating a new object.\n",
    "# Examples:\n",
    "# Lists/Arrays: Lists are mutable. Elements can be added, removed, or modified within the list. In \n",
    "#     Python:\n",
    "        \n",
    "numbers = [1, 2, 3]\n",
    "numbers.append(4)\n",
    "print(numbers) \n",
    "numbers[1] = 5\n",
    "print(numbers) \n",
    "\n",
    "# An immutable data type is one whose state cannot be modified after it is created. Any operation on an immutable object will \n",
    "# result in a new object being created, rather than modifying the existing one. Immutable objects are safe from unintended changes\n",
    "# and can be easily shared across different parts of a program.\n",
    "# Strings:strings are immutable. Once a string is created, its contents cannot be modified. For \n",
    "# example :\n",
    "\n",
    "text = \"Hello\"\n",
    "new_text = text + \" World\"\n",
    "print(text) \n",
    "print(new_text)  "
   ]
  },
  {
   "cell_type": "code",
   "execution_count": null,
   "id": "ddf15040",
   "metadata": {},
   "outputs": [],
   "source": []
  }
 ],
 "metadata": {
  "kernelspec": {
   "display_name": "Python 3 (ipykernel)",
   "language": "python",
   "name": "python3"
  },
  "language_info": {
   "codemirror_mode": {
    "name": "ipython",
    "version": 3
   },
   "file_extension": ".py",
   "mimetype": "text/x-python",
   "name": "python",
   "nbconvert_exporter": "python",
   "pygments_lexer": "ipython3",
   "version": "3.9.12"
  }
 },
 "nbformat": 4,
 "nbformat_minor": 5
}
