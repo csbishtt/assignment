{
 "cells": [
  {
   "cell_type": "code",
   "execution_count": 2,
   "id": "df25ad54",
   "metadata": {},
   "outputs": [
    {
     "name": "stdout",
     "output_type": "stream",
     "text": [
      "Hello, my name is karan and I am 30 years old.\n"
     ]
    }
   ],
   "source": [
    "#Q1. Explain Class and Object with respect to Object-Oriented Programming. Give a suitable example.\n",
    "\n",
    "#Class:\n",
    "#A class is a blueprint or a template that defines the structure and behavior of objects. It encapsulates data (attributes) and methods (functions) that operate on that data. In simpler terms, a class defines what an object of that class will look like and how it will behave. It acts as a blueprint from which objects are created.\n",
    "\n",
    "#Object:\n",
    "#An object is an instance of a class. It represents a real-world entity and has its own unique identity, state (values of attributes), and behavior (methods). Objects are created based on the class blueprint and can interact with each other through method calls.\n",
    "\n",
    "\n",
    "class Person:\n",
    "    def __init__(self, name, age):\n",
    "        self.name = name\n",
    "        self.age = age\n",
    "\n",
    "    def say_hello(self):\n",
    "        print(f\"Hello, my name is {self.name} and I am {self.age} years old.\")\n",
    "\n",
    "person1 = Person(\"karan\", 30)\n",
    "\n",
    "person1.say_hello()"
   ]
  },
  {
   "cell_type": "code",
   "execution_count": null,
   "id": "cd6c25d3",
   "metadata": {},
   "outputs": [],
   "source": [
    "#Q2. Name the four pillars of OOPs.\n",
    "1-Encapsulation\n",
    "2-Abstraction\n",
    "3-Inheritance\n",
    "4-Polymorphism"
   ]
  },
  {
   "cell_type": "code",
   "execution_count": 3,
   "id": "c247c538",
   "metadata": {},
   "outputs": [
    {
     "name": "stdout",
     "output_type": "stream",
     "text": [
      "Hello, my name is chetan and I am 30 years old.\n"
     ]
    }
   ],
   "source": [
    "#Q3. Explain why the _init_() function is used. Give a suitable example.\n",
    "\n",
    "#The __init__() method in Python is a special method known as the constructor. It is automatically called when an object is \n",
    "#created from a class, and it is used to initialize the attributes (data members) of the object. The primary purpose of the\n",
    "#__init__() method is to set up initial state of the object, allowing you to provide default values or accept specific values\n",
    "#for the object's attributes during instantiation.\n",
    "\n",
    "class Person:\n",
    "    def __init__(self, name, age):\n",
    "        self.name = name\n",
    "        self.age = age\n",
    "\n",
    "    def say_hello(self):\n",
    "        print(f\"Hello, my name is {self.name} and I am {self.age} years old.\")\n",
    "\n",
    "person1 = Person(\"chetan\", 30)\n",
    "\n",
    "person1.say_hello()"
   ]
  },
  {
   "cell_type": "code",
   "execution_count": null,
   "id": "7f90b512",
   "metadata": {},
   "outputs": [],
   "source": [
    "#Q4. Why self is used in OOPS?\n",
    "\n",
    "#In Object-Oriented Programming (OOP), self is a special variable that is used within the methods of a class to refer to the \n",
    "#instance (object) of the class itself. It acts as a reference to the current object, allowing methods to access and modify the \n",
    "#object's attributes and invoke other methods."
   ]
  },
  {
   "cell_type": "code",
   "execution_count": 4,
   "id": "2755e50c",
   "metadata": {},
   "outputs": [
    {
     "name": "stdout",
     "output_type": "stream",
     "text": [
      "Dog\n",
      "Woof!\n"
     ]
    }
   ],
   "source": [
    "#Q5. What is inheritance? Give an example for each type Inheritance.\n",
    "\n",
    "#Inheritance is a fundamental concept in object-oriented programming (OOP) that allows a class (subclass or derived class) to inherit properties and behaviors from another class (superclass or base class). It enables code reuse, promotes the concept of hierarchy, and allows new classes to be built upon existing classes, reducing code duplication and increasing modularity.\n",
    "\n",
    "class Animal:\n",
    "    def __init__(self, species):\n",
    "        self.species = species\n",
    "\n",
    "    def make_sound(self):\n",
    "        pass\n",
    "\n",
    "class Dog(Animal):\n",
    "    def __init__(self, breed):\n",
    "        super().__init__(\"Dog\")\n",
    "        self.breed = breed\n",
    "\n",
    "    def make_sound(self):\n",
    "        return \"Woof!\"\n",
    "\n",
    "dog = Dog(\"Labrador\")\n",
    "print(dog.species)  \n",
    "print(dog.make_sound())  \n"
   ]
  }
 ],
 "metadata": {
  "kernelspec": {
   "display_name": "Python 3 (ipykernel)",
   "language": "python",
   "name": "python3"
  },
  "language_info": {
   "codemirror_mode": {
    "name": "ipython",
    "version": 3
   },
   "file_extension": ".py",
   "mimetype": "text/x-python",
   "name": "python",
   "nbconvert_exporter": "python",
   "pygments_lexer": "ipython3",
   "version": "3.9.12"
  }
 },
 "nbformat": 4,
 "nbformat_minor": 5
}
