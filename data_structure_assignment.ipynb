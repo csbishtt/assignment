{
 "cells": [
  {
   "cell_type": "code",
   "execution_count": 2,
   "id": "16e8c042",
   "metadata": {},
   "outputs": [],
   "source": [
    "#Q1.How do you comment code in python? what are different types of comments in python?\n",
    "\n",
    "#Comments in Python are identified with a hash symbol, #, and extend to the end of the line. Hash characters in a string are \n",
    "#not considered comments, however. \n",
    "\n",
    "#There are three types of comments in Python:\n",
    "\n",
    "# 1-Single line Comments\n",
    "#Python single-line comment starts with the hashtag symbol (#) with no white spaces and lasts till the end of the line. If the \n",
    "#comment exceeds one line then put a hashtag on the next line and continue the comment. \n",
    "#eg --> #this is comments\n",
    "\n",
    "#Multiline Comments\n",
    "\n",
    "\n",
    "#Docstring Comments"
   ]
  },
  {
   "cell_type": "code",
   "execution_count": null,
   "id": "9b9b82c7",
   "metadata": {},
   "outputs": [],
   "source": [
    "#Q2. What are variables in Python? How do you declare and assign values to variables?\n",
    "\n",
    "#A variable is a string of characters and numbers associated with a piece of information. \n",
    "#A variable can delecare by any name\n",
    "#there are some rules to declare a variable \n",
    "\n",
    "#A variable name must start with a letter or the underscore character\n",
    "#A variable name cannot start with a number\n",
    "#A variable name can only contain alpha-numeric characters and underscores (A-z, 0-9, and _ )\n",
    "#Variable names are case-sensitive (age, Age and AGE are three different variables)\n",
    "\n",
    "#The assignment operator, denoted by the “=” symbol, is the operator that is used to assign values to variables in Python. \n",
    "# eg,\n",
    "# a=1\n"
   ]
  },
  {
   "cell_type": "code",
   "execution_count": 4,
   "id": "a0cd52ed",
   "metadata": {},
   "outputs": [
    {
     "name": "stdout",
     "output_type": "stream",
     "text": [
      "<class 'int'>\n",
      "<class 'float'>\n",
      "<class 'str'>\n"
     ]
    }
   ],
   "source": [
    "#Q3 - How do you convert one data type to another in Python?\n",
    "\n",
    "#In Python, you can convert one data type to another using type conversion functions or methods. Here are some commonly used \n",
    "#methods for type conversion:\n",
    "\n",
    "#int(): Converts a value to an integer.\n",
    "a=\"10\"\n",
    "a=int(a)\n",
    "print(type(a))\n",
    "\n",
    "#float(): Converts a value to a floating-point number.\n",
    "a=float(a) \n",
    "print(type(a))\n",
    "\n",
    "#str(): Converts a value to a string.\n",
    "a=str(a)\n",
    "print(type(a))"
   ]
  },
  {
   "cell_type": "code",
   "execution_count": 5,
   "id": "ab1b853b",
   "metadata": {},
   "outputs": [
    {
     "name": "stdout",
     "output_type": "stream",
     "text": [
      "[2, 3]\n"
     ]
    }
   ],
   "source": [
    "#Q4 - How do you write and execute a Python script from the command line? Q5. Given a list my_list = [1, 2, 3, 4, 5], write the code \n",
    "#to slice the list and obtain the sub-list [2, 3].\n",
    "\n",
    "#To write and execute a Python script from the command line -\n",
    "#steps:\n",
    "#1 - Open a text editor and create a new file.\n",
    "#2 - Write your Python code in the file and save the file with a .py extension.\n",
    "#3 - Open a terminal or command prompt.\n",
    "#4 - Navigate to the directory where the Python script is located using the cd command. \n",
    "#5 - Once you are in the correct directory, you can execute the Python script using the python command followed by the script's \n",
    "#    filename.\n",
    " \n",
    "my_list = [1, 2, 3, 4, 5]\n",
    "sub_list = my_list[1:3]\n",
    "print(sub_list)"
   ]
  },
  {
   "cell_type": "code",
   "execution_count": 6,
   "id": "155248fb",
   "metadata": {},
   "outputs": [
    {
     "name": "stdout",
     "output_type": "stream",
     "text": [
      "(3+4j)\n",
      "(2-5j)\n"
     ]
    }
   ],
   "source": [
    "#Q5 - What is a complex number in mathematics, and how is it represented in Python?\n",
    "\n",
    "#In mathematics, a complex number is a number that can be expressed in the form \"a + bi\", where \"a\" and \"b\" are real numbers, and\n",
    "#\"i\" is the imaginary unit defined as the square root of -1. The real part of the complex number is represented by \"a\", and the\n",
    "#imaginary part is represented by \"b\".\n",
    "\n",
    "#In Python, complex numbers are built-in data types and can be represented using the complex class. You can create a complex \n",
    "#number by using the syntax a + bj or complex(a, b), where \"a\" represents the real part and \"b\" represents the imaginary part. \n",
    "\n",
    "z1 = 3 + 4j\n",
    "z2 = complex(2, -5)\n",
    "\n",
    "print(z1)  \n",
    "print(z2)\n"
   ]
  },
  {
   "cell_type": "code",
   "execution_count": 7,
   "id": "70e22d9d",
   "metadata": {},
   "outputs": [],
   "source": [
    "#Q7. What is the correct way to declare a variable named age and assign the value 25 to it? \n",
    "\n",
    "#In Python, the correct way to declare a variable named \"age\" and assign the value 25 to it is\n",
    "age = 25"
   ]
  },
  {
   "cell_type": "code",
   "execution_count": 8,
   "id": "e6c2dda7",
   "metadata": {},
   "outputs": [
    {
     "data": {
      "text/plain": [
       "float"
      ]
     },
     "execution_count": 8,
     "metadata": {},
     "output_type": "execute_result"
    }
   ],
   "source": [
    "#Q8. Declare a variable named price and assign the value 9.99 to it. What data type does this variable belong to?\n",
    "\n",
    "price = 9.99\n",
    "type(price)"
   ]
  },
  {
   "cell_type": "code",
   "execution_count": 9,
   "id": "833cebc4",
   "metadata": {},
   "outputs": [
    {
     "name": "stdout",
     "output_type": "stream",
     "text": [
      "Chetan Singh BIsht\n"
     ]
    }
   ],
   "source": [
    "#Q9. Create a variable named name and assign your full name to it as a string. How would you print thevalue of this variable?\n",
    "\n",
    "name =\"Chetan Singh BIsht\"\n",
    "print(name)\n"
   ]
  },
  {
   "cell_type": "code",
   "execution_count": 10,
   "id": "b883d0c7",
   "metadata": {},
   "outputs": [
    {
     "name": "stdout",
     "output_type": "stream",
     "text": [
      "World\n"
     ]
    }
   ],
   "source": [
    "#Q10. Given the string \"Hello, World!\", extract the substring \"World\".\n",
    "\n",
    "string = \"Hello, World!\"\n",
    "substring = string[7:12]\n",
    "print(substring)"
   ]
  },
  {
   "cell_type": "code",
   "execution_count": null,
   "id": "8d1365f8",
   "metadata": {},
   "outputs": [],
   "source": [
    "#Q11. Create a variable named \"is_student\" and assign it a boolean value indicating whether you are currently a student or not?\n",
    "user=input(\"you are student? :\")\n",
    "if user==\"yes\":\n",
    "    is_student=True\n",
    "else:\n",
    "    is_student=False"
   ]
  }
 ],
 "metadata": {
  "kernelspec": {
   "display_name": "Python 3 (ipykernel)",
   "language": "python",
   "name": "python3"
  },
  "language_info": {
   "codemirror_mode": {
    "name": "ipython",
    "version": 3
   },
   "file_extension": ".py",
   "mimetype": "text/x-python",
   "name": "python",
   "nbconvert_exporter": "python",
   "pygments_lexer": "ipython3",
   "version": "3.9.12"
  }
 },
 "nbformat": 4,
 "nbformat_minor": 5
}
